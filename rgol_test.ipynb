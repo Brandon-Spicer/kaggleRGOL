{
  "nbformat": 4,
  "nbformat_minor": 0,
  "metadata": {
    "colab": {
      "name": "rgol_test.ipynb",
      "provenance": [],
      "collapsed_sections": [],
      "authorship_tag": "ABX9TyPUiD3JsWbPDrXAVBuKyrnO",
      "include_colab_link": true
    },
    "kernelspec": {
      "name": "python3",
      "display_name": "Python 3"
    },
    "accelerator": "GPU"
  },
  "cells": [
    {
      "cell_type": "markdown",
      "metadata": {
        "id": "view-in-github",
        "colab_type": "text"
      },
      "source": [
        "<a href=\"https://colab.research.google.com/github/ImanariRoll/kaggleRGOL/blob/master/rgol_test.ipynb\" target=\"_parent\"><img src=\"https://colab.research.google.com/assets/colab-badge.svg\" alt=\"Open In Colab\"/></a>"
      ]
    },
    {
      "cell_type": "code",
      "metadata": {
        "id": "ENjMX5vUshbh",
        "outputId": "1634298a-767e-4a60-8dc0-42e99259c6f1",
        "colab": {
          "base_uri": "https://localhost:8080/",
          "height": 52
        }
      },
      "source": [
        "from google.colab import drive\n",
        "drive.mount('/content/gdrive')\n",
        "\n",
        "%cd gdrive/My\\ Drive/rgol"
      ],
      "execution_count": 1,
      "outputs": [
        {
          "output_type": "stream",
          "text": [
            "Mounted at /content/gdrive\n",
            "/content/gdrive/My Drive/rgol\n"
          ],
          "name": "stdout"
        }
      ]
    },
    {
      "cell_type": "code",
      "metadata": {
        "id": "tV3IqiFZRF8d"
      },
      "source": [
        "# run in console to prevent timeout\n",
        "function ClickConnect() {\n",
        "  console.log('Working')\n",
        "  document\n",
        "    .querySelector('#top-toolbar > colab-connect-button')\n",
        "    .shadowRoot.querySelector('#connect')\n",
        "    .click()\n",
        "}\n",
        "\n",
        "setInterval(ClickConnect, 60000)"
      ],
      "execution_count": null,
      "outputs": []
    },
    {
      "cell_type": "code",
      "metadata": {
        "id": "WkOfXeYetf6A"
      },
      "source": [
        "# This Python 3 environment comes with many helpful analytics libraries installed\n",
        "# It is defined by the kaggle/python docker image: https://github.com/kaggle/docker-python\n",
        "# For example, here's several helpful packages to load in \n",
        "\n",
        "\n",
        "\n",
        "import numpy as np # linear algebra\n",
        "import pandas as pd # data processing, CSV file I/O (e.g. pd.read_csv)\n",
        "import keras as ks\n",
        "import keras\n",
        "from keras.models import Sequential\n",
        "from keras.layers import Dense, Dropout, Conv2D, MaxPool2D, Conv2DTranspose, BatchNormalization\n",
        "from keras.callbacks import EarlyStopping, ModelCheckpoint\n",
        "# Input data files are available in the \"../input/\" directory.\n",
        "# For example, running this (by clicking run or pressing Shift+Enter) will list all files under the input directory\n",
        "import matplotlib.pyplot as plt\n"
      ],
      "execution_count": 2,
      "outputs": []
    },
    {
      "cell_type": "code",
      "metadata": {
        "id": "jn3XcCM3udiV"
      },
      "source": [
        "# LOAD DATA\n",
        "train_df = pd.read_csv('data/train.csv', index_col=0)\n",
        "test_df = pd.read_csv('data/test.csv', index_col=0)\n"
      ],
      "execution_count": 8,
      "outputs": []
    },
    {
      "cell_type": "code",
      "metadata": {
        "id": "kMo31YQIuTuu"
      },
      "source": [
        "\n",
        "\n",
        "# my generators\n",
        "moore = [(-1, -1), (-1, 0), (-1, 1),\\\n",
        "            (0, -1), (0, 1),\\\n",
        "            (1, -1), (1, 0), (1, 1)]\n",
        "\n",
        "def evolve(X, K, S, B):\n",
        "    \"\"\"Return the next cellular automaton state.\"\"\"\n",
        "    adjacent = np.zeros(X.shape)\n",
        "    for i, j in K:\n",
        "        adjacent += np.roll(X, [i, j], [0, 1])\n",
        "        \n",
        "    next_state = np.where(X, np.isin(adjacent, S), np.isin(adjacent, B))\n",
        "    return next_state + 0\n",
        "\n",
        "def golgen(state):\n",
        "    \"\"\"Conway's Game of Life cellular automaton generator.\"\"\"\n",
        "    while True:\n",
        "        state = evolve(state, moore, [2, 3], [3])\n",
        "        yield state\n",
        "        \n",
        "# my make_move function\n",
        "def make_move(state, moves):\n",
        "    gen = golgen(state)\n",
        "    for _ in range(moves):\n",
        "        state = next(gen)\n",
        "        \n",
        "    return state\n"
      ],
      "execution_count": 3,
      "outputs": []
    },
    {
      "cell_type": "code",
      "metadata": {
        "id": "_AMfWp5FuXtz"
      },
      "source": [
        "# original author's generators\n",
        "NROW, NCOL = 25, 25\n",
        "\n",
        "def generate_samples(delta=1, n=32):\n",
        "    \"\"\"\n",
        "    Generate batch of samples\n",
        "    \n",
        "    @return: (end_frames, start_frames)\n",
        "    \"\"\"\n",
        "    # uint8 is an 8-bit unsigned integer\n",
        "    # split into n batches of NROWxNCOL grids\n",
        "    batch = np.split(np.random.binomial(1, 0.5, (NROW * n, NCOL)).astype('uint8'), n)\n",
        "    Yy = [life.make_move(state, 5) for state in batch] # transition each state in batch\n",
        "    # is this because we want to learn actual gol states, not just random starting states?\n",
        "    Xx = [life.make_move(state, 1) for state in Yy] # transition each state in batch \n",
        "    Y = np.array([y.ravel() for y in Yy])\n",
        "    X = np.array([x.ravel() for x in Xx])\n",
        "    return X, Y\n",
        "    \n",
        "# this is the same function writen as a generator\n",
        "def data_generator(delta=1, batch_size=32, ravel=True):\n",
        "    \"\"\"\n",
        "    Can be used along with .fit_generator to generate training samples on the fly\n",
        "    \"\"\"\n",
        "    while True:\n",
        "        batch = np.split(np.random.binomial(1, 0.5, (NROW * batch_size, NCOL)).astype('uint8'), batch_size)\n",
        "        Yy = [make_move(state, 5) for state in batch]\n",
        "        Xx = [make_move(state, 5 + delta) for state in Yy]\n",
        "\n",
        "        if ravel:\n",
        "            # turn grids into 1D\n",
        "            Y = np.array([y.ravel() for y in Yy])\n",
        "            X = np.array([x.ravel() for x in Xx])\n",
        "            yield X, Y\n",
        "        else:\n",
        "            yield np.array(Xx)[:,:, :, np.newaxis], np.array(Yy)[:, :, :, np.newaxis]\n",
        "            \n",
        "def create_model(n_hidden_convs=2, n_hidden_filters=128, kernel_size=5):\n",
        "    nn = Sequential()\n",
        "    # hidden filters, kernel size, padding, activation?\n",
        "    nn.add(Conv2D(n_hidden_filters, kernel_size, padding='same', activation='relu', input_shape=(25, 25, 1)))\n",
        "    # what is batch normalization?\n",
        "    nn.add(BatchNormalization())\n",
        "    for i in range(n_hidden_convs):\n",
        "        nn.add(Conv2D(n_hidden_filters, kernel_size, padding='same', activation='relu'))\n",
        "        nn.add(BatchNormalization())\n",
        "    nn.add(Conv2D(1, kernel_size, padding='same', activation='sigmoid'))\n",
        "    nn.compile(optimizer='adam', loss='binary_crossentropy', metrics=['accuracy'])\n",
        "    return nn"
      ],
      "execution_count": 4,
      "outputs": []
    },
    {
      "cell_type": "code",
      "metadata": {
        "id": "IriSUcyDqnV_"
      },
      "source": [
        "# set up system for working with saved models\n",
        "#   function that loads models and outputs a list of them\n",
        "\n",
        "# save models\n",
        "def save_models():\n",
        "  for i in range(5):\n",
        "    models[i].save(f'model{i}')\n",
        "\n",
        "# load models\n",
        "def load_models():\n",
        "  models = []\n",
        "  for i in range(5):\n",
        "    models.append(keras.models.load_model(f'model{i}'))\n",
        "  return models \n",
        " "
      ],
      "execution_count": 6,
      "outputs": []
    },
    {
      "cell_type": "code",
      "metadata": {
        "id": "o17DYXl-ubNp",
        "outputId": "98378ed0-f22e-4200-9888-0b9d65ba4110",
        "colab": {
          "base_uri": "https://localhost:8080/",
          "height": 1000
        }
      },
      "source": [
        "# TRAIN THE MODELS\n",
        "models = []\n",
        "for delta in range(1, 6):\n",
        "    model = create_model(n_hidden_convs=6, n_hidden_filters=512)\n",
        "    es = EarlyStopping(monitor='loss', patience=9, min_delta=0.001)\n",
        "    model.fit(data_generator(delta=delta, ravel=False), steps_per_epoch=500, epochs=50, verbose=1, callbacks=[es])\n",
        "    models.append(model)\n",
        "    \n",
        "   "
      ],
      "execution_count": 5,
      "outputs": [
        {
          "output_type": "stream",
          "text": [
            "Epoch 1/50\n",
            "  2/500 [..............................] - ETA: 54s - loss: 1.9769 - accuracy: 0.5114WARNING:tensorflow:Callbacks method `on_train_batch_end` is slow compared to the batch time (batch time: 0.0714s vs `on_train_batch_end` time: 0.1467s). Check your callbacks.\n",
            "500/500 [==============================] - 116s 232ms/step - loss: 0.5715 - accuracy: 0.7549\n",
            "Epoch 2/50\n",
            "500/500 [==============================] - 122s 244ms/step - loss: 0.5320 - accuracy: 0.7656\n",
            "Epoch 3/50\n",
            "500/500 [==============================] - 122s 243ms/step - loss: 0.5303 - accuracy: 0.7668\n",
            "Epoch 4/50\n",
            "500/500 [==============================] - 122s 244ms/step - loss: 0.5313 - accuracy: 0.7659\n",
            "Epoch 5/50\n",
            "500/500 [==============================] - 121s 243ms/step - loss: 0.5307 - accuracy: 0.7667\n",
            "Epoch 6/50\n",
            "500/500 [==============================] - 121s 243ms/step - loss: 0.5285 - accuracy: 0.7673\n",
            "Epoch 7/50\n",
            "500/500 [==============================] - 121s 242ms/step - loss: 0.5271 - accuracy: 0.7672\n",
            "Epoch 8/50\n",
            "500/500 [==============================] - 121s 242ms/step - loss: 0.5249 - accuracy: 0.7677\n",
            "Epoch 9/50\n",
            "500/500 [==============================] - 121s 242ms/step - loss: 0.5242 - accuracy: 0.7679\n",
            "Epoch 10/50\n",
            "500/500 [==============================] - 121s 242ms/step - loss: 0.5248 - accuracy: 0.7676\n",
            "Epoch 11/50\n",
            "500/500 [==============================] - 121s 242ms/step - loss: 0.5243 - accuracy: 0.7679\n",
            "Epoch 12/50\n",
            "500/500 [==============================] - 121s 242ms/step - loss: 0.5233 - accuracy: 0.7682\n",
            "Epoch 13/50\n",
            "500/500 [==============================] - 121s 241ms/step - loss: 0.5211 - accuracy: 0.7685\n",
            "Epoch 14/50\n",
            "500/500 [==============================] - 121s 241ms/step - loss: 0.5222 - accuracy: 0.7675\n",
            "Epoch 15/50\n",
            "500/500 [==============================] - 121s 241ms/step - loss: 0.5206 - accuracy: 0.7682\n",
            "Epoch 16/50\n",
            "500/500 [==============================] - 121s 241ms/step - loss: 0.5205 - accuracy: 0.7682\n",
            "Epoch 17/50\n",
            "500/500 [==============================] - 120s 241ms/step - loss: 0.5202 - accuracy: 0.7682\n",
            "Epoch 18/50\n",
            "500/500 [==============================] - 121s 241ms/step - loss: 0.5206 - accuracy: 0.7678\n",
            "Epoch 19/50\n",
            "500/500 [==============================] - 121s 241ms/step - loss: 0.5204 - accuracy: 0.7681\n",
            "Epoch 20/50\n",
            "500/500 [==============================] - 120s 241ms/step - loss: 0.5204 - accuracy: 0.7679\n",
            "Epoch 21/50\n",
            "500/500 [==============================] - 121s 242ms/step - loss: 0.5199 - accuracy: 0.7682\n",
            "Epoch 22/50\n",
            "500/500 [==============================] - 121s 241ms/step - loss: 0.5193 - accuracy: 0.7685\n",
            "Epoch 23/50\n",
            "500/500 [==============================] - 121s 241ms/step - loss: 0.5198 - accuracy: 0.7682\n",
            "Epoch 24/50\n",
            "500/500 [==============================] - 121s 241ms/step - loss: 0.5202 - accuracy: 0.7679\n",
            "Epoch 25/50\n",
            "500/500 [==============================] - 121s 241ms/step - loss: 0.5197 - accuracy: 0.7682\n",
            "Epoch 26/50\n",
            "500/500 [==============================] - 121s 241ms/step - loss: 0.5204 - accuracy: 0.7678\n",
            "Epoch 27/50\n",
            "500/500 [==============================] - 121s 242ms/step - loss: 0.5260 - accuracy: 0.7675\n",
            "Epoch 28/50\n",
            "500/500 [==============================] - 121s 242ms/step - loss: 0.5225 - accuracy: 0.7675\n",
            "Epoch 29/50\n",
            "500/500 [==============================] - 121s 242ms/step - loss: 0.5209 - accuracy: 0.7680\n",
            "Epoch 30/50\n",
            "500/500 [==============================] - 121s 242ms/step - loss: 0.5202 - accuracy: 0.7684\n",
            "Epoch 1/50\n",
            "  2/500 [..............................] - ETA: 59s - loss: 1.8109 - accuracy: 0.5255WARNING:tensorflow:Callbacks method `on_train_batch_end` is slow compared to the batch time (batch time: 0.0781s vs `on_train_batch_end` time: 0.1609s). Check your callbacks.\n",
            "500/500 [==============================] - 122s 244ms/step - loss: 0.5692 - accuracy: 0.7551\n",
            "Epoch 2/50\n",
            "500/500 [==============================] - 122s 243ms/step - loss: 0.5375 - accuracy: 0.7652\n",
            "Epoch 3/50\n",
            "500/500 [==============================] - 122s 243ms/step - loss: 0.5361 - accuracy: 0.7668\n",
            "Epoch 4/50\n",
            "500/500 [==============================] - 122s 243ms/step - loss: 0.5344 - accuracy: 0.7668\n",
            "Epoch 5/50\n",
            "500/500 [==============================] - 121s 243ms/step - loss: 0.5330 - accuracy: 0.7677\n",
            "Epoch 6/50\n",
            "500/500 [==============================] - 121s 243ms/step - loss: 0.5338 - accuracy: 0.7668\n",
            "Epoch 7/50\n",
            "500/500 [==============================] - 121s 243ms/step - loss: 0.5310 - accuracy: 0.7676\n",
            "Epoch 8/50\n",
            "500/500 [==============================] - 121s 242ms/step - loss: 0.5306 - accuracy: 0.7673\n",
            "Epoch 9/50\n",
            "500/500 [==============================] - 121s 242ms/step - loss: 0.5297 - accuracy: 0.7676\n",
            "Epoch 10/50\n",
            "500/500 [==============================] - 121s 243ms/step - loss: 0.5304 - accuracy: 0.7675\n",
            "Epoch 11/50\n",
            "500/500 [==============================] - 121s 243ms/step - loss: 0.5292 - accuracy: 0.7676\n",
            "Epoch 12/50\n",
            "500/500 [==============================] - 121s 242ms/step - loss: 0.5311 - accuracy: 0.7676\n",
            "Epoch 13/50\n",
            "500/500 [==============================] - 121s 242ms/step - loss: 0.5274 - accuracy: 0.7681\n",
            "Epoch 14/50\n",
            "500/500 [==============================] - 121s 242ms/step - loss: 0.5265 - accuracy: 0.7681\n",
            "Epoch 15/50\n",
            "500/500 [==============================] - 121s 242ms/step - loss: 0.5265 - accuracy: 0.7680\n",
            "Epoch 16/50\n",
            "500/500 [==============================] - 121s 242ms/step - loss: 0.5255 - accuracy: 0.7682\n",
            "Epoch 17/50\n",
            "500/500 [==============================] - 121s 242ms/step - loss: 0.5253 - accuracy: 0.7682\n",
            "Epoch 18/50\n",
            "500/500 [==============================] - 121s 242ms/step - loss: 0.5252 - accuracy: 0.7683\n",
            "Epoch 19/50\n",
            "500/500 [==============================] - 121s 242ms/step - loss: 0.5250 - accuracy: 0.7685\n",
            "Epoch 20/50\n",
            "500/500 [==============================] - 121s 242ms/step - loss: 0.5258 - accuracy: 0.7677\n",
            "Epoch 21/50\n",
            "500/500 [==============================] - 121s 242ms/step - loss: 0.5249 - accuracy: 0.7683\n",
            "Epoch 22/50\n",
            "500/500 [==============================] - 121s 242ms/step - loss: 0.5249 - accuracy: 0.7681\n",
            "Epoch 23/50\n",
            "500/500 [==============================] - 121s 242ms/step - loss: 0.5243 - accuracy: 0.7685\n",
            "Epoch 24/50\n",
            "500/500 [==============================] - 121s 242ms/step - loss: 0.5245 - accuracy: 0.7683\n",
            "Epoch 25/50\n",
            "500/500 [==============================] - 121s 242ms/step - loss: 0.5246 - accuracy: 0.7684\n",
            "Epoch 26/50\n",
            "500/500 [==============================] - 121s 242ms/step - loss: 0.5253 - accuracy: 0.7677\n",
            "Epoch 27/50\n",
            "500/500 [==============================] - 121s 242ms/step - loss: 0.5248 - accuracy: 0.7680\n",
            "Epoch 28/50\n",
            "500/500 [==============================] - 121s 242ms/step - loss: 0.5250 - accuracy: 0.7678\n",
            "Epoch 29/50\n",
            "500/500 [==============================] - 121s 242ms/step - loss: 0.5244 - accuracy: 0.7683\n",
            "Epoch 30/50\n",
            "500/500 [==============================] - 121s 242ms/step - loss: 0.5247 - accuracy: 0.7681\n",
            "Epoch 31/50\n",
            "500/500 [==============================] - 121s 242ms/step - loss: 0.5244 - accuracy: 0.7681\n",
            "Epoch 32/50\n",
            "500/500 [==============================] - 121s 242ms/step - loss: 0.5246 - accuracy: 0.7680\n",
            "Epoch 1/50\n",
            "  2/500 [..............................] - ETA: 1:00 - loss: 2.3847 - accuracy: 0.5787WARNING:tensorflow:Callbacks method `on_train_batch_end` is slow compared to the batch time (batch time: 0.0810s vs `on_train_batch_end` time: 0.1610s). Check your callbacks.\n",
            "500/500 [==============================] - 122s 243ms/step - loss: 0.5770 - accuracy: 0.7543\n",
            "Epoch 2/50\n",
            "500/500 [==============================] - 122s 243ms/step - loss: 0.5377 - accuracy: 0.7670\n",
            "Epoch 3/50\n",
            "500/500 [==============================] - 121s 243ms/step - loss: 0.5393 - accuracy: 0.7660\n",
            "Epoch 4/50\n",
            "500/500 [==============================] - 121s 243ms/step - loss: 0.5372 - accuracy: 0.7668\n",
            "Epoch 5/50\n",
            "500/500 [==============================] - 121s 243ms/step - loss: 0.5353 - accuracy: 0.7675\n",
            "Epoch 6/50\n",
            "500/500 [==============================] - 121s 243ms/step - loss: 0.5346 - accuracy: 0.7675\n",
            "Epoch 7/50\n",
            "500/500 [==============================] - 121s 243ms/step - loss: 0.5344 - accuracy: 0.7676\n",
            "Epoch 8/50\n",
            "500/500 [==============================] - 121s 242ms/step - loss: 0.5337 - accuracy: 0.7677\n",
            "Epoch 9/50\n",
            "500/500 [==============================] - 121s 242ms/step - loss: 0.5338 - accuracy: 0.7673\n",
            "Epoch 10/50\n",
            "500/500 [==============================] - 121s 242ms/step - loss: 0.5346 - accuracy: 0.7675\n",
            "Epoch 11/50\n",
            "500/500 [==============================] - 121s 242ms/step - loss: 0.5334 - accuracy: 0.7673\n",
            "Epoch 12/50\n",
            "500/500 [==============================] - 121s 242ms/step - loss: 0.5335 - accuracy: 0.7675\n",
            "Epoch 13/50\n",
            "500/500 [==============================] - 121s 242ms/step - loss: 0.5308 - accuracy: 0.7683\n",
            "Epoch 14/50\n",
            "500/500 [==============================] - 121s 242ms/step - loss: 0.5319 - accuracy: 0.7677\n",
            "Epoch 15/50\n",
            "500/500 [==============================] - 120s 241ms/step - loss: 0.5325 - accuracy: 0.7677\n",
            "Epoch 16/50\n",
            "500/500 [==============================] - 120s 240ms/step - loss: 0.5304 - accuracy: 0.7679\n",
            "Epoch 17/50\n",
            "500/500 [==============================] - 120s 240ms/step - loss: 0.5299 - accuracy: 0.7679\n",
            "Epoch 18/50\n",
            "500/500 [==============================] - 120s 240ms/step - loss: 0.5295 - accuracy: 0.7678\n",
            "Epoch 19/50\n",
            "500/500 [==============================] - 120s 240ms/step - loss: 0.5293 - accuracy: 0.7679\n",
            "Epoch 20/50\n",
            "500/500 [==============================] - 120s 240ms/step - loss: 0.5287 - accuracy: 0.7681\n",
            "Epoch 21/50\n",
            "500/500 [==============================] - 120s 239ms/step - loss: 0.5288 - accuracy: 0.7680\n",
            "Epoch 22/50\n",
            "500/500 [==============================] - 120s 240ms/step - loss: 0.5288 - accuracy: 0.7679\n",
            "Epoch 23/50\n",
            "500/500 [==============================] - 120s 240ms/step - loss: 0.5285 - accuracy: 0.7681\n",
            "Epoch 24/50\n",
            "500/500 [==============================] - 120s 239ms/step - loss: 0.5286 - accuracy: 0.7680\n",
            "Epoch 25/50\n",
            "500/500 [==============================] - 120s 240ms/step - loss: 0.5282 - accuracy: 0.7683\n",
            "Epoch 26/50\n",
            "500/500 [==============================] - 120s 239ms/step - loss: 0.5288 - accuracy: 0.7678\n",
            "Epoch 27/50\n",
            "500/500 [==============================] - 120s 240ms/step - loss: 0.5280 - accuracy: 0.7682\n",
            "Epoch 28/50\n",
            "500/500 [==============================] - 120s 239ms/step - loss: 0.5284 - accuracy: 0.7680\n",
            "Epoch 29/50\n",
            "500/500 [==============================] - 120s 240ms/step - loss: 0.5277 - accuracy: 0.7685\n",
            "Epoch 30/50\n",
            "500/500 [==============================] - 120s 239ms/step - loss: 0.5284 - accuracy: 0.7679\n",
            "Epoch 31/50\n",
            "500/500 [==============================] - 120s 240ms/step - loss: 0.5289 - accuracy: 0.7682\n",
            "Epoch 32/50\n",
            "500/500 [==============================] - 120s 240ms/step - loss: 0.5282 - accuracy: 0.7682\n",
            "Epoch 1/50\n",
            "  2/500 [..............................] - ETA: 1:00 - loss: 1.9269 - accuracy: 0.5341WARNING:tensorflow:Callbacks method `on_train_batch_end` is slow compared to the batch time (batch time: 0.0812s vs `on_train_batch_end` time: 0.1599s). Check your callbacks.\n",
            "500/500 [==============================] - 122s 244ms/step - loss: 0.5784 - accuracy: 0.7539\n",
            "Epoch 2/50\n",
            "500/500 [==============================] - 122s 243ms/step - loss: 0.5434 - accuracy: 0.7660\n",
            "Epoch 3/50\n",
            "500/500 [==============================] - 122s 243ms/step - loss: 0.5426 - accuracy: 0.7670\n",
            "Epoch 4/50\n",
            "500/500 [==============================] - 121s 243ms/step - loss: 0.5418 - accuracy: 0.7671\n",
            "Epoch 5/50\n",
            "500/500 [==============================] - 121s 242ms/step - loss: 0.5413 - accuracy: 0.7672\n",
            "Epoch 6/50\n",
            "500/500 [==============================] - 121s 242ms/step - loss: 0.5382 - accuracy: 0.7674\n",
            "Epoch 7/50\n",
            "500/500 [==============================] - 121s 242ms/step - loss: 0.5372 - accuracy: 0.7677\n",
            "Epoch 8/50\n",
            "500/500 [==============================] - 121s 242ms/step - loss: 0.5363 - accuracy: 0.7674\n",
            "Epoch 9/50\n",
            "500/500 [==============================] - 121s 241ms/step - loss: 0.5346 - accuracy: 0.7678\n",
            "Epoch 10/50\n",
            "500/500 [==============================] - 121s 242ms/step - loss: 0.5399 - accuracy: 0.7674\n",
            "Epoch 11/50\n",
            "500/500 [==============================] - 120s 241ms/step - loss: 0.5351 - accuracy: 0.7673\n",
            "Epoch 12/50\n",
            "500/500 [==============================] - 120s 241ms/step - loss: 0.5329 - accuracy: 0.7682\n",
            "Epoch 13/50\n",
            "500/500 [==============================] - 120s 241ms/step - loss: 0.5326 - accuracy: 0.7679\n",
            "Epoch 14/50\n",
            "500/500 [==============================] - 120s 241ms/step - loss: 0.5325 - accuracy: 0.7677\n",
            "Epoch 15/50\n",
            "500/500 [==============================] - 120s 240ms/step - loss: 0.5323 - accuracy: 0.7677\n",
            "Epoch 16/50\n",
            "500/500 [==============================] - 120s 240ms/step - loss: 0.5318 - accuracy: 0.7680\n",
            "Epoch 17/50\n",
            "500/500 [==============================] - 120s 241ms/step - loss: 0.5321 - accuracy: 0.7676\n",
            "Epoch 18/50\n",
            "500/500 [==============================] - 120s 240ms/step - loss: 0.5320 - accuracy: 0.7678\n",
            "Epoch 19/50\n",
            "500/500 [==============================] - 120s 241ms/step - loss: 0.5315 - accuracy: 0.7680\n",
            "Epoch 20/50\n",
            "500/500 [==============================] - 120s 240ms/step - loss: 0.5316 - accuracy: 0.7679\n",
            "Epoch 21/50\n",
            "500/500 [==============================] - 120s 240ms/step - loss: 0.5312 - accuracy: 0.7682\n",
            "Epoch 22/50\n",
            "500/500 [==============================] - 120s 240ms/step - loss: 0.5311 - accuracy: 0.7681\n",
            "Epoch 23/50\n",
            "500/500 [==============================] - 120s 240ms/step - loss: 0.5318 - accuracy: 0.7677\n",
            "Epoch 24/50\n",
            "500/500 [==============================] - 120s 240ms/step - loss: 0.5311 - accuracy: 0.7681\n",
            "Epoch 25/50\n",
            "500/500 [==============================] - 120s 240ms/step - loss: 0.5315 - accuracy: 0.7678\n",
            "Epoch 1/50\n",
            "  2/500 [..............................] - ETA: 1:00 - loss: 1.9157 - accuracy: 0.5188WARNING:tensorflow:Callbacks method `on_train_batch_end` is slow compared to the batch time (batch time: 0.0834s vs `on_train_batch_end` time: 0.1586s). Check your callbacks.\n",
            "500/500 [==============================] - 122s 243ms/step - loss: 0.5785 - accuracy: 0.7551\n",
            "Epoch 2/50\n",
            "500/500 [==============================] - 121s 243ms/step - loss: 0.5430 - accuracy: 0.7663\n",
            "Epoch 3/50\n",
            "500/500 [==============================] - 121s 243ms/step - loss: 0.5442 - accuracy: 0.7662\n",
            "Epoch 4/50\n",
            "500/500 [==============================] - 121s 243ms/step - loss: 0.5428 - accuracy: 0.7666\n",
            "Epoch 5/50\n",
            "500/500 [==============================] - 121s 242ms/step - loss: 0.5438 - accuracy: 0.7658\n",
            "Epoch 6/50\n",
            "500/500 [==============================] - 121s 243ms/step - loss: 0.5415 - accuracy: 0.7668\n",
            "Epoch 7/50\n",
            "500/500 [==============================] - 121s 242ms/step - loss: 0.5419 - accuracy: 0.7667\n",
            "Epoch 8/50\n",
            "500/500 [==============================] - 121s 241ms/step - loss: 0.5393 - accuracy: 0.7678\n",
            "Epoch 9/50\n",
            "500/500 [==============================] - 121s 242ms/step - loss: 0.5381 - accuracy: 0.7678\n",
            "Epoch 10/50\n",
            "500/500 [==============================] - 120s 241ms/step - loss: 0.5384 - accuracy: 0.7674\n",
            "Epoch 11/50\n",
            "500/500 [==============================] - 120s 241ms/step - loss: 0.5365 - accuracy: 0.7680\n",
            "Epoch 12/50\n",
            "500/500 [==============================] - 121s 241ms/step - loss: 0.5368 - accuracy: 0.7679\n",
            "Epoch 13/50\n",
            "500/500 [==============================] - 120s 241ms/step - loss: 0.5368 - accuracy: 0.7677\n",
            "Epoch 14/50\n",
            "500/500 [==============================] - 120s 240ms/step - loss: 0.5353 - accuracy: 0.7680\n",
            "Epoch 15/50\n",
            "500/500 [==============================] - 120s 240ms/step - loss: 0.5343 - accuracy: 0.7681\n",
            "Epoch 16/50\n",
            "500/500 [==============================] - 120s 240ms/step - loss: 0.5345 - accuracy: 0.7678\n",
            "Epoch 17/50\n",
            "500/500 [==============================] - 120s 240ms/step - loss: 0.5338 - accuracy: 0.7680\n",
            "Epoch 18/50\n",
            "500/500 [==============================] - 120s 240ms/step - loss: 0.5331 - accuracy: 0.7685\n",
            "Epoch 19/50\n",
            "500/500 [==============================] - 120s 240ms/step - loss: 0.5334 - accuracy: 0.7682\n",
            "Epoch 20/50\n",
            "500/500 [==============================] - 120s 240ms/step - loss: 0.5335 - accuracy: 0.7680\n",
            "Epoch 21/50\n",
            "500/500 [==============================] - 120s 240ms/step - loss: 0.5332 - accuracy: 0.7681\n",
            "Epoch 22/50\n",
            "500/500 [==============================] - 120s 240ms/step - loss: 0.5336 - accuracy: 0.7681\n",
            "Epoch 23/50\n",
            "500/500 [==============================] - 120s 240ms/step - loss: 0.5327 - accuracy: 0.7686\n",
            "Epoch 24/50\n",
            "500/500 [==============================] - 120s 240ms/step - loss: 0.5333 - accuracy: 0.7680\n",
            "Epoch 25/50\n",
            "500/500 [==============================] - 120s 240ms/step - loss: 0.5338 - accuracy: 0.7677\n",
            "Epoch 26/50\n",
            "500/500 [==============================] - 120s 239ms/step - loss: 0.5331 - accuracy: 0.7681\n",
            "Epoch 27/50\n",
            "500/500 [==============================] - 120s 240ms/step - loss: 0.5340 - accuracy: 0.7675\n",
            "Epoch 28/50\n",
            "500/500 [==============================] - 120s 240ms/step - loss: 0.5328 - accuracy: 0.7683\n",
            "Epoch 29/50\n",
            "500/500 [==============================] - 120s 240ms/step - loss: 0.5344 - accuracy: 0.7679\n",
            "Epoch 30/50\n",
            "500/500 [==============================] - 120s 241ms/step - loss: 0.5343 - accuracy: 0.7675\n",
            "Epoch 31/50\n",
            "500/500 [==============================] - 120s 241ms/step - loss: 0.5322 - accuracy: 0.7688\n",
            "Epoch 32/50\n",
            "500/500 [==============================] - 121s 241ms/step - loss: 0.5333 - accuracy: 0.7680\n"
          ],
          "name": "stdout"
        }
      ]
    },
    {
      "cell_type": "code",
      "metadata": {
        "id": "54uwuGPYLkPs",
        "outputId": "fc44b787-1302-44c9-d527-18afd9c4a30c",
        "colab": {
          "base_uri": "https://localhost:8080/",
          "height": 228
        }
      },
      "source": [
        "# GOD SAVE THE MODELS!!!\n",
        "save_models()"
      ],
      "execution_count": 7,
      "outputs": [
        {
          "output_type": "stream",
          "text": [
            "WARNING:tensorflow:From /usr/local/lib/python3.6/dist-packages/tensorflow/python/training/tracking/tracking.py:111: Model.state_updates (from tensorflow.python.keras.engine.training) is deprecated and will be removed in a future version.\n",
            "Instructions for updating:\n",
            "This property should not be used in TensorFlow 2.0, as updates are applied automatically.\n",
            "WARNING:tensorflow:From /usr/local/lib/python3.6/dist-packages/tensorflow/python/training/tracking/tracking.py:111: Layer.updates (from tensorflow.python.keras.engine.base_layer) is deprecated and will be removed in a future version.\n",
            "Instructions for updating:\n",
            "This property should not be used in TensorFlow 2.0, as updates are applied automatically.\n",
            "INFO:tensorflow:Assets written to: model0/assets\n",
            "INFO:tensorflow:Assets written to: model1/assets\n",
            "INFO:tensorflow:Assets written to: model2/assets\n",
            "INFO:tensorflow:Assets written to: model3/assets\n",
            "INFO:tensorflow:Assets written to: model4/assets\n"
          ],
          "name": "stdout"
        }
      ]
    },
    {
      "cell_type": "code",
      "metadata": {
        "id": "0KyZgX1GeC3o"
      },
      "source": [
        "# test model with images"
      ],
      "execution_count": null,
      "outputs": []
    },
    {
      "cell_type": "code",
      "metadata": {
        "id": "dcommHYRlBnS",
        "outputId": "a72ce1fb-bfc1-4a2e-acec-b8964e6ade7d",
        "colab": {
          "base_uri": "https://localhost:8080/",
          "height": 269
        }
      },
      "source": [
        "fig, ax = plt.subplots()"
      ],
      "execution_count": null,
      "outputs": [
        {
          "output_type": "display_data",
          "data": {
            "image/png": "[encoded data removed]",
            "text/plain": [
              "<Figure size 432x288 with 1 Axes>"
            ]
          },
          "metadata": {
            "tags": [],
            "needs_background": "light"
          }
        }
      ]
    },
    {
      "cell_type": "code",
      "metadata": {
        "id": "0t5aMYqLNrni"
      },
      "source": [
        "def get_prediction(delta):\n",
        "  # must have shape (-1, 25, 25, 1) for keras predict. (-1, 25, 25) for imshow\n",
        "  start = train_df[train_df.delta == delta].iloc[:, 1:626].values.reshape(-1, 25, 25)\n",
        "  stop = train_df[train_df.delta == delta].iloc[:, 626:].values.reshape(-1, 25, 25, 1)\n",
        "  predicted_start = models[delta-1].predict(stop).reshape(-1, 25, 25)\n",
        "  stop = stop.reshape(-1, 25, 25)\n",
        "  return start, stop, predicted_start"
      ],
      "execution_count": 33,
      "outputs": []
    },
    {
      "cell_type": "code",
      "metadata": {
        "id": "c9lweUCjDYOT"
      },
      "source": [
        "datasets = get_prediction(5)"
      ],
      "execution_count": 34,
      "outputs": []
    },
    {
      "cell_type": "code",
      "metadata": {
        "id": "LPWCcrBiA8bG",
        "outputId": "687091dc-8bdc-4fea-c561-c7cb3daddc29",
        "colab": {
          "base_uri": "https://localhost:8080/",
          "height": 761
        }
      },
      "source": [
        "n = 10\n",
        "for ds in datasets:\n",
        "  fig, ax = plt.subplots()\n",
        "  ax.imshow(ds[n])"
      ],
      "execution_count": 44,
      "outputs": [
        {
          "output_type": "display_data",
          "data": {
            "image/png": "[encoded data removed]",
            "text/plain": [
              "<Figure size 432x288 with 1 Axes>"
            ]
          },
          "metadata": {
            "tags": [],
            "needs_background": "light"
          }
        },
        {
          "output_type": "display_data",
          "data": {
            "image/png": "[encoded data removed]",
            "text/plain": [
              "<Figure size 432x288 with 1 Axes>"
            ]
          },
          "metadata": {
            "tags": [],
            "needs_background": "light"
          }
        },
        {
          "output_type": "display_data",
          "data": {
            "image/png": "[encoded data removed]",
            "text/plain": [
              "<Figure size 432x288 with 1 Axes>"
            ]
          },
          "metadata": {
            "tags": [],
            "needs_background": "light"
          }
        }
      ]
    },
    {
      "cell_type": "code",
      "metadata": {
        "id": "f_h1hm9HOBMW"
      },
      "source": [
        "# use test set to evaluate\n",
        "n = 5\n",
        "x_test = train_df[train_df.delta == n].iloc[:, 1:626].values.reshape(-1, 25, 25, 1)\n",
        "y_test = train_df[train_df.delta == n].iloc[:, 626:].values.reshape(-1, 25, 25, 1)"
      ],
      "execution_count": 13,
      "outputs": []
    },
    {
      "cell_type": "code",
      "metadata": {
        "id": "E9YhBmnqRypZ",
        "outputId": "3d2d2cb8-fc19-4e77-b338-fcdfc016b1eb",
        "colab": {
          "base_uri": "https://localhost:8080/",
          "height": 52
        }
      },
      "source": [
        "models[n-1].evaluate(x_test, y_test, batch_size=512)"
      ],
      "execution_count": 15,
      "outputs": [
        {
          "output_type": "stream",
          "text": [
            "20/20 [==============================] - 17s 863ms/step - loss: 1.0531 - accuracy: 0.8602\n"
          ],
          "name": "stdout"
        },
        {
          "output_type": "execute_result",
          "data": {
            "text/plain": [
              "[1.0531296730041504, 0.8602374792098999]"
            ]
          },
          "metadata": {
            "tags": []
          },
          "execution_count": 15
        }
      ]
    },
    {
      "cell_type": "code",
      "metadata": {
        "id": "uWvayna9SF-h"
      },
      "source": [
        "# submission data set\n",
        "submit_df = pd.DataFrame(index=test_df.index, columns=['start_' + str(_) for _ in range(0, 625)])\n",
        "\n",
        "for delta in range(1, 6):\n",
        "    mod = models[delta-1]\n",
        "    delta_df = test_df[test_df.delta == delta].iloc[:, 1:].values.reshape(-1, 25, 25, 1)\n",
        "    submit_df[test_df.delta == delta] = mod.predict(delta_df).reshape(-1, 625).round(0).astype('uint8')\n",
        "    \n",
        "submit_df.to_csv('submission.csv')"
      ],
      "execution_count": 10,
      "outputs": []
    },
    {
      "cell_type": "code",
      "metadata": {
        "id": "o9iAZve2U_tD"
      },
      "source": [
        "submit_df = pd.read_csv('submission.csv')"
      ],
      "execution_count": 12,
      "outputs": []
    }
  ]
}